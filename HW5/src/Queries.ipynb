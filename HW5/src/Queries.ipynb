{
 "cells": [
  {
   "cell_type": "markdown",
   "metadata": {},
   "source": [
    "## Prepare Environment"
   ]
  },
  {
   "cell_type": "code",
   "execution_count": 1,
   "metadata": {
    "scrolled": true
   },
   "outputs": [],
   "source": [
    "# !pip3 install pymongo\n",
    "# !pip3 install mongoengine\n",
    "# !pip3 install Faker\n",
    "# !pip3 install mongomock"
   ]
  },
  {
   "cell_type": "code",
   "execution_count": 2,
   "metadata": {},
   "outputs": [],
   "source": [
    "# %load_ext nb_black\n",
    "# %load_ext autoreload\n",
    "# %autoreload 2"
   ]
  },
  {
   "cell_type": "code",
   "execution_count": 3,
   "metadata": {},
   "outputs": [],
   "source": [
    "# Prepare environment for importing from src\n",
    "import sys\n",
    "import os\n",
    "\n",
    "sys.path.insert(0, \"..\")"
   ]
  },
  {
   "cell_type": "markdown",
   "metadata": {},
   "source": [
    "## Import Dependencies "
   ]
  },
  {
   "cell_type": "code",
   "execution_count": 4,
   "metadata": {},
   "outputs": [],
   "source": [
    "import random\n",
    "import datetime\n",
    "\n",
    "from mongoengine import connect, get_connection\n",
    "\n",
    "from src.data import initialize_db\n",
    "from src.utils import drop_db"
   ]
  },
  {
   "cell_type": "markdown",
   "metadata": {},
   "source": [
    "## Connect to Mock DB"
   ]
  },
  {
   "cell_type": "code",
   "execution_count": 5,
   "metadata": {},
   "outputs": [],
   "source": [
    "from pymongo import MongoClient\n",
    "\n",
    "client = connect(\"assignment\", host=\"mongodb://127.0.0.1:27017\")"
   ]
  },
  {
   "cell_type": "code",
   "execution_count": 97,
   "metadata": {},
   "outputs": [],
   "source": [
    "if not os.environ.get(\"TEST\"):\n",
    "    drop_db(client, \"assignment\")"
   ]
  },
  {
   "cell_type": "markdown",
   "metadata": {},
   "source": [
    "## Generate Fake Data & Insert Them to DB"
   ]
  },
  {
   "cell_type": "code",
   "execution_count": 8,
   "metadata": {},
   "outputs": [],
   "source": [
    "if not os.environ.get(\"TEST\"):\n",
    "    initialize_db()"
   ]
  },
  {
   "cell_type": "code",
   "execution_count": 9,
   "metadata": {},
   "outputs": [
    {
     "output_type": "stream",
     "name": "stdout",
     "text": [
      "['sale', 'patient', 'product', 'comment', 'drug', 'prescription', 'pharmacy', 'user', 'company', 'product_item', 'driver', 'doctor', 'contract']\n{'_id': ObjectId('601aefddd97804f997cd3730'), 'national_id': '3389083863', 'first_name': 'Shane', 'last_name': 'Ramirez', 'address': '65423 Rogers Common Apt. 594\\nBlairmouth, ME 72858', 'birthdate': datetime.datetime(1978, 3, 4, 0, 0), 'password': 'raymond57', 'doctor_id': ObjectId('601aefddd97804f997cd372f')}\n"
     ]
    }
   ],
   "source": [
    "print(client.assignment.list_collection_names())\n",
    "print(client.assignment.patient.find_one())"
   ]
  },
  {
   "cell_type": "markdown",
   "metadata": {},
   "source": [
    "## Examples"
   ]
  },
  {
   "cell_type": "code",
   "execution_count": 10,
   "metadata": {
    "scrolled": false
   },
   "outputs": [
    {
     "output_type": "stream",
     "name": "stdout",
     "text": [
      "{'_id': ObjectId('601aefdfd97804f997cd3ac3'), 'name': 'Midodrine Hydrochloride', 'company_id': ObjectId('601aefddd97804f997cd37fa'), 'formula': 'CH3COOH'}\n"
     ]
    }
   ],
   "source": [
    "print(client.assignment.drug.find_one({\"formula\": \"CH3COOH\"}))"
   ]
  },
  {
   "cell_type": "code",
   "execution_count": null,
   "metadata": {},
   "outputs": [],
   "source": []
  },
  {
   "cell_type": "code",
   "execution_count": 11,
   "metadata": {
    "scrolled": true
   },
   "outputs": [
    {
     "output_type": "execute_result",
     "data": {
      "text/plain": [
       "[{'_id': 'NaNO3', 'count': 13},\n",
       " {'_id': 'C5H8NO4Na', 'count': 3},\n",
       " {'_id': 'CH4N2S', 'count': 2},\n",
       " {'_id': 'MnSO4', 'count': 2},\n",
       " {'_id': 'CH3COOH', 'count': 4},\n",
       " {'_id': 'H2C2O4', 'count': 2},\n",
       " {'_id': 'CH3CHOHCH3', 'count': 2},\n",
       " {'_id': 'NH4I', 'count': 3},\n",
       " {'_id': 'Na2HPO4', 'count': 4},\n",
       " {'_id': 'C18H36O2', 'count': 4},\n",
       " {'_id': 'CaC2', 'count': 3},\n",
       " {'_id': 'C4H10', 'count': 4},\n",
       " {'_id': 'Na3AsO4', 'count': 2},\n",
       " {'_id': 'H2SO4', 'count': 10},\n",
       " {'_id': 'Na3N', 'count': 5},\n",
       " {'_id': 'CH3COONH4', 'count': 1},\n",
       " {'_id': 'C2H3ClO2', 'count': 1},\n",
       " {'_id': 'CH3CO2K', 'count': 4},\n",
       " {'_id': 'C2H4', 'count': 2},\n",
       " {'_id': 'C7H6O2', 'count': 4},\n",
       " {'_id': 'KF', 'count': 2},\n",
       " {'_id': 'C2H3N', 'count': 4},\n",
       " {'_id': 'PCl5', 'count': 6},\n",
       " {'_id': 'ZnSO4', 'count': 3},\n",
       " {'_id': 'Ag2O', 'count': 5},\n",
       " {'_id': 'SnCl2', 'count': 4},\n",
       " {'_id': 'KCN', 'count': 4},\n",
       " {'_id': 'LiBr', 'count': 5},\n",
       " {'_id': 'C4H8O2', 'count': 6},\n",
       " {'_id': 'CH3CH2OH', 'count': 2},\n",
       " {'_id': 'NaBr', 'count': 4},\n",
       " {'_id': 'NaClO', 'count': 8},\n",
       " {'_id': 'C2HCl3O2', 'count': 2},\n",
       " {'_id': 'BaI2', 'count': 2},\n",
       " {'_id': 'K2CO3', 'count': 4},\n",
       " {'_id': 'KI', 'count': 8},\n",
       " {'_id': 'Al', 'count': 3},\n",
       " {'_id': 'Cl2', 'count': 4},\n",
       " {'_id': 'H2CrO4', 'count': 2},\n",
       " {'_id': 'C3H7NO2', 'count': 4},\n",
       " {'_id': 'CuCO3', 'count': 2},\n",
       " {'_id': 'PCl3', 'count': 3},\n",
       " {'_id': 'C6H5', 'count': 3},\n",
       " {'_id': 'C2H6Na4O12', 'count': 6},\n",
       " {'_id': 'C2H3O2Cl', 'count': 2},\n",
       " {'_id': 'HFO2', 'count': 3},\n",
       " {'_id': 'K2CrO4', 'count': 2},\n",
       " {'_id': 'Na2SO3', 'count': 2},\n",
       " {'_id': 'ZnS', 'count': 10},\n",
       " {'_id': 'AlCl3', 'count': 4},\n",
       " {'_id': 'H2O2', 'count': 3},\n",
       " {'_id': 'Na2O2', 'count': 2},\n",
       " {'_id': 'CrCl3', 'count': 5},\n",
       " {'_id': 'SO4', 'count': 3},\n",
       " {'_id': 'KSCN', 'count': 3},\n",
       " {'_id': 'C76H52O46', 'count': 1},\n",
       " {'_id': 'NH4OH', 'count': 4},\n",
       " {'_id': 'C2H6', 'count': 3},\n",
       " {'_id': 'H2SiF6\\t144.', 'count': 2},\n",
       " {'_id': 'SnCl4', 'count': 2},\n",
       " {'_id': 'NaClO3', 'count': 4},\n",
       " {'_id': 'NaKC4H4O6', 'count': 3},\n",
       " {'_id': 'MgSO4', 'count': 5},\n",
       " {'_id': 'Na2C10H14N2O8', 'count': 4},\n",
       " {'_id': 'KMnO4', 'count': 3},\n",
       " {'_id': 'C27H36N2O10', 'count': 2},\n",
       " {'_id': 'Na3C6H5O7', 'count': 3},\n",
       " {'_id': 'K2SO3', 'count': 3},\n",
       " {'_id': 'CH2O2', 'count': 2},\n",
       " {'_id': 'C2H5OH', 'count': 8},\n",
       " {'_id': 'BaCl2', 'count': 10},\n",
       " {'_id': 'NH4NO2', 'count': 1},\n",
       " {'_id': 'C8H10', 'count': 3},\n",
       " {'_id': 'C6H8O7', 'count': 5},\n",
       " {'_id': 'CaCO3', 'count': 1},\n",
       " {'_id': 'Cu2O', 'count': 2},\n",
       " {'_id': 'Na3PO4', 'count': 6},\n",
       " {'_id': 'C12H22O11', 'count': 17},\n",
       " {'_id': 'PbI2', 'count': 2},\n",
       " {'_id': 'C3H6O2', 'count': 2},\n",
       " {'_id': 'CH2O', 'count': 7},\n",
       " {'_id': 'HClO4', 'count': 3},\n",
       " {'_id': 'HgCl2', 'count': 7},\n",
       " {'_id': 'BaSO4', 'count': 3},\n",
       " {'_id': 'C2H2', 'count': 2},\n",
       " {'_id': 'HBrO', 'count': 3},\n",
       " {'_id': 'N2O3', 'count': 5},\n",
       " {'_id': 'NH4NO3', 'count': 7},\n",
       " {'_id': 'H3PO3', 'count': 5},\n",
       " {'_id': 'CCl3COOH', 'count': 5},\n",
       " {'_id': 'PI3', 'count': 3},\n",
       " {'_id': 'K2Cr2O7', 'count': 11},\n",
       " {'_id': 'AgCl', 'count': 2},\n",
       " {'_id': 'Ar', 'count': 2},\n",
       " {'_id': 'C3H4O4', 'count': 5},\n",
       " {'_id': 'C3H6O', 'count': 2},\n",
       " {'_id': 'S2O8', 'count': 4},\n",
       " {'_id': 'CuSO4', 'count': 3},\n",
       " {'_id': 'C4H6O4Ca', 'count': 4},\n",
       " {'_id': 'Al2O3', 'count': 5},\n",
       " {'_id': 'NiSO4', 'count': 8},\n",
       " {'_id': 'LiOH', 'count': 1},\n",
       " {'_id': 'C6H6O', 'count': 7},\n",
       " {'_id': 'Br2', 'count': 2},\n",
       " {'_id': 'H2C2O4\\t90.', 'count': 4},\n",
       " {'_id': 'C4H8N2O2', 'count': 1},\n",
       " {'_id': 'NH4Cl', 'count': 6},\n",
       " {'_id': 'Na2C4H4O6', 'count': 3},\n",
       " {'_id': 'SnO2', 'count': 5},\n",
       " {'_id': 'XeF2', 'count': 1},\n",
       " {'_id': 'C6H14O6', 'count': 5},\n",
       " {'_id': 'LiCl', 'count': 3},\n",
       " {'_id': 'NH3', 'count': 11},\n",
       " {'_id': 'ClF3', 'count': 2},\n",
       " {'_id': 'BaBr2', 'count': 1},\n",
       " {'_id': 'HBr', 'count': 4},\n",
       " {'_id': 'AlF3', 'count': 3},\n",
       " {'_id': 'KClO3', 'count': 7},\n",
       " {'_id': 'CaI2', 'count': 2},\n",
       " {'_id': 'CH3CH2CH2OH', 'count': 4},\n",
       " {'_id': 'H2C4H4O6', 'count': 1},\n",
       " {'_id': 'C6H12N4', 'count': 3},\n",
       " {'_id': 'KH2PO4', 'count': 11},\n",
       " {'_id': 'Na2S2O3', 'count': 4},\n",
       " {'_id': 'AgC2H3O2', 'count': 4},\n",
       " {'_id': 'ZnBr2', 'count': 1},\n",
       " {'_id': 'SO3', 'count': 2},\n",
       " {'_id': 'HNO2', 'count': 1},\n",
       " {'_id': 'KNO3', 'count': 12},\n",
       " {'_id': 'NaNO2', 'count': 7},\n",
       " {'_id': 'OH2', 'count': 1},\n",
       " {'_id': 'CH4N2O', 'count': 6},\n",
       " {'_id': 'C2H6O2', 'count': 1},\n",
       " {'_id': 'NaI', 'count': 2},\n",
       " {'_id': 'AlPO4', 'count': 4},\n",
       " {'_id': 'KClO', 'count': 1},\n",
       " {'_id': 'K2O', 'count': 1},\n",
       " {'_id': 'C4H10O', 'count': 5},\n",
       " {'_id': 'KNO2', 'count': 3},\n",
       " {'_id': 'MgS', 'count': 4},\n",
       " {'_id': 'C6H12O6', 'count': 6},\n",
       " {'_id': 'Li3PO4', 'count': 3},\n",
       " {'_id': 'PbO2', 'count': 3},\n",
       " {'_id': 'K2SO4', 'count': 2},\n",
       " {'_id': 'N2O5', 'count': 2},\n",
       " {'_id': 'PO4', 'count': 7},\n",
       " {'_id': 'C6H4Cl2', 'count': 2},\n",
       " {'_id': 'Na2Cr2O7', 'count': 5},\n",
       " {'_id': 'FeCl3', 'count': 1},\n",
       " {'_id': 'MnO2', 'count': 9},\n",
       " {'_id': 'Cu2Cl2', 'count': 6},\n",
       " {'_id': 'H3BO3', 'count': 2},\n",
       " {'_id': 'K2HPO4', 'count': 6},\n",
       " {'_id': 'ZnCl2', 'count': 7},\n",
       " {'_id': 'BaO', 'count': 2},\n",
       " {'_id': 'MgO', 'count': 6},\n",
       " {'_id': 'C4H4O4', 'count': 8},\n",
       " {'_id': 'C6H6', 'count': 6},\n",
       " {'_id': 'N2H4', 'count': 6},\n",
       " {'_id': 'H2O', 'count': 3},\n",
       " {'_id': 'MgI2', 'count': 3},\n",
       " {'_id': 'Fe2O3', 'count': 2},\n",
       " {'_id': 'Br', 'count': 2},\n",
       " {'_id': 'Cr2O3', 'count': 2},\n",
       " {'_id': 'CuCl2', 'count': 4},\n",
       " {'_id': 'C2H5NO', 'count': 6},\n",
       " {'_id': 'CaCl2', 'count': 10},\n",
       " {'_id': 'H3PO4', 'count': 10},\n",
       " {'_id': 'HClO', 'count': 4},\n",
       " {'_id': 'CaO', 'count': 2},\n",
       " {'_id': 'C4H8O4Ni', 'count': 4},\n",
       " {'_id': 'C4H6O6', 'count': 2},\n",
       " {'_id': 'CH4', 'count': 3},\n",
       " {'_id': 'HNO3', 'count': 7},\n",
       " {'_id': 'K2C4H4O6', 'count': 7},\n",
       " {'_id': 'C10H12O2', 'count': 2},\n",
       " {'_id': 'C2H4O', 'count': 7},\n",
       " {'_id': 'CO', 'count': 5},\n",
       " {'_id': 'NH4HCO3', 'count': 4},\n",
       " {'_id': 'Ag3PO4', 'count': 1},\n",
       " {'_id': 'Na2O', 'count': 1},\n",
       " {'_id': 'MgCO3', 'count': 5},\n",
       " {'_id': 'NaC2H3O2', 'count': 3},\n",
       " {'_id': 'Li2O', 'count': 1},\n",
       " {'_id': 'HCOONa', 'count': 3},\n",
       " {'_id': 'H2SO3', 'count': 3},\n",
       " {'_id': 'C2H2Cl2O2', 'count': 3},\n",
       " {'_id': 'C2Cl4', 'count': 3},\n",
       " {'_id': 'SrCl2', 'count': 5},\n",
       " {'_id': 'ZnCO3', 'count': 2},\n",
       " {'_id': 'NaOH', 'count': 5},\n",
       " {'_id': 'HI', 'count': 4},\n",
       " {'_id': 'KHCO3', 'count': 8},\n",
       " {'_id': 'CrO3', 'count': 2},\n",
       " {'_id': 'FeSO4', 'count': 4},\n",
       " {'_id': 'CCl4', 'count': 5},\n",
       " {'_id': 'C3H6O3', 'count': 5},\n",
       " {'_id': 'HIO', 'count': 3},\n",
       " {'_id': 'C3H8', 'count': 3},\n",
       " {'_id': 'HCl', 'count': 4},\n",
       " {'_id': 'C6H6O2', 'count': 7},\n",
       " {'_id': 'C5H5N', 'count': 6},\n",
       " {'_id': 'Na2SO4', 'count': 5},\n",
       " {'_id': 'HCOOH', 'count': 2},\n",
       " {'_id': 'CO3', 'count': 4},\n",
       " {'_id': 'KBr', 'count': 5},\n",
       " {'_id': 'C7H8', 'count': 2},\n",
       " {'_id': 'Na2CrO4', 'count': 3},\n",
       " {'_id': 'H2CO3', 'count': 8},\n",
       " {'_id': 'SO2', 'count': 3},\n",
       " {'_id': 'NaHCO3', 'count': 2},\n",
       " {'_id': 'C27H28Br2O5S', 'count': 4},\n",
       " {'_id': 'MgCl2', 'count': 2},\n",
       " {'_id': 'Na2CO3', 'count': 9},\n",
       " {'_id': 'C2H6OS', 'count': 10},\n",
       " {'_id': 'NaHSO4', 'count': 2},\n",
       " {'_id': 'Ag2CO3', 'count': 4},\n",
       " {'_id': 'NO2', 'count': 9},\n",
       " {'_id': 'He', 'count': 4},\n",
       " {'_id': 'BaCO3', 'count': 2},\n",
       " {'_id': 'KIO3', 'count': 3},\n",
       " {'_id': 'O3', 'count': 3},\n",
       " {'_id': 'C7H6O3', 'count': 5},\n",
       " {'_id': 'Na2S', 'count': 2},\n",
       " {'_id': 'KOH', 'count': 3},\n",
       " {'_id': 'BaF2', 'count': 4},\n",
       " {'_id': 'KCl', 'count': 4},\n",
       " {'_id': 'NaH2PO4', 'count': 1},\n",
       " {'_id': 'C2H3O2NH4', 'count': 4},\n",
       " {'_id': 'C6H14', 'count': 2},\n",
       " {'_id': 'NO', 'count': 2},\n",
       " {'_id': 'SiO2', 'count': 4},\n",
       " {'_id': 'CrK2O4', 'count': 3},\n",
       " {'_id': 'ZnI2', 'count': 1},\n",
       " {'_id': 'NH4Br', 'count': 1},\n",
       " {'_id': 'C20H14O4', 'count': 1},\n",
       " {'_id': 'NaCN', 'count': 4},\n",
       " {'_id': 'Na2S2O5', 'count': 2},\n",
       " {'_id': 'AgNO3', 'count': 9},\n",
       " {'_id': 'TiO2', 'count': 2},\n",
       " {'_id': 'C3H8O3', 'count': 8},\n",
       " {'_id': 'N2O', 'count': 1},\n",
       " {'_id': 'HCN', 'count': 7},\n",
       " {'_id': 'NaF', 'count': 2}]"
      ]
     },
     "metadata": {},
     "execution_count": 11
    }
   ],
   "source": [
    "list(\n",
    "    client.assignment.drug.aggregate(\n",
    "        [{\"$group\": {\"_id\": \"$formula\", \"count\": {\"$sum\": 1}}}]\n",
    "    )\n",
    ")"
   ]
  },
  {
   "cell_type": "code",
   "execution_count": null,
   "metadata": {},
   "outputs": [],
   "source": []
  },
  {
   "cell_type": "code",
   "execution_count": 12,
   "metadata": {},
   "outputs": [
    {
     "output_type": "execute_result",
     "data": {
      "text/plain": [
       "{'patients': 9}"
      ]
     },
     "metadata": {},
     "execution_count": 12
    }
   ],
   "source": [
    "client.assignment.patient.aggregate(\n",
    "    [\n",
    "        {\n",
    "            \"$lookup\": {\n",
    "                \"from\": \"doctor\",\n",
    "                \"localField\": \"doctor_id\",\n",
    "                \"foreignField\": \"_id\",\n",
    "                \"as\": \"doctor\",\n",
    "            }\n",
    "        },\n",
    "        {\"$match\": {\"doctor.first_name\": \"Robert\"}},\n",
    "        {\"$count\": \"patients\"},\n",
    "    ]\n",
    ").next()"
   ]
  },
  {
   "cell_type": "code",
   "execution_count": null,
   "metadata": {},
   "outputs": [],
   "source": []
  },
  {
   "cell_type": "markdown",
   "metadata": {},
   "source": [
    "## Query Assignments"
   ]
  },
  {
   "cell_type": "code",
   "execution_count": 6,
   "metadata": {
    "scrolled": true
   },
   "outputs": [
    {
     "output_type": "stream",
     "name": "stdout",
     "text": [
      "##1##\n[{'name': 'Rogers-Cardenas'}, {'name': 'Jones, Fox and Romero'}, {'name': 'Lee, Moore and Ferrell'}, {'name': 'Ellison-Arias'}, {'name': 'Henry Inc'}, {'name': 'Lopez-Buchanan'}, {'name': 'Weber-Zamora'}, {'name': 'Kennedy Inc'}, {'name': 'Ramirez Group'}, {'name': 'Fry-Douglas'}, {'name': 'Smith, Kemp and Hughes'}, {'name': 'Nicholson, Smith and Hernandez'}]\n"
     ]
    }
   ],
   "source": [
    "# نام داروخانه هایی که شماره تلفن آنها با 1+ شروع می شود\n",
    "print(\"##1##\")\n",
    "a1 = list(\n",
    "    client.assignment.pharmacy.find(\n",
    "        filter={\n",
    "            'telephone': {\n",
    "                '$regex': r'^\\+1.+$'\n",
    "            }\n",
    "        },\n",
    "        projection={\"name\": 1, \"_id\": 0},\n",
    "    )\n",
    ")\n",
    "print(a1)"
   ]
  },
  {
   "cell_type": "code",
   "execution_count": 7,
   "metadata": {},
   "outputs": [
    {
     "output_type": "stream",
     "name": "stdout",
     "text": [
      "##2##\n[{'national_id': '7510799118'}, {'national_id': '8069901627'}, {'national_id': '7059640165'}, {'national_id': '9599534283'}, {'national_id': '5973832060'}, {'national_id': '5899441715'}, {'national_id': '9812387800'}, {'national_id': '4271739627'}, {'national_id': '2091241862'}, {'national_id': '0249724399'}, {'national_id': '0242403381'}, {'national_id': '9074260880'}, {'national_id': '3578243477'}, {'national_id': '0961701595'}, {'national_id': '8114578870'}, {'national_id': '8816502544'}, {'national_id': '1123274897'}, {'national_id': '4815269255'}, {'national_id': '8519537749'}, {'national_id': '5700412918'}, {'national_id': '2546862728'}, {'national_id': '8864078802'}, {'national_id': '0186074290'}, {'national_id': '2365401814'}]\n"
     ]
    }
   ],
   "source": [
    "# شماره ملی افرادی که بعد از تاریخ datetime.datetime(2000, 1, 1, 0, 0) متولد شده اند\n",
    "print(\"##2##\")\n",
    "a2 = list(\n",
    "    client.assignment.patient.find(\n",
    "        filter={\n",
    "            'birthdate': {\n",
    "                '$gt': datetime.datetime(2000, 1, 1, 0, 0)\n",
    "            }\n",
    "        },\n",
    "        projection={\"national_id\": 1, \"_id\": 0},\n",
    "    )\n",
    ")\n",
    "print(a2)"
   ]
  },
  {
   "cell_type": "code",
   "execution_count": 8,
   "metadata": {},
   "outputs": [
    {
     "output_type": "stream",
     "name": "stdout",
     "text": [
      "##3##\n20\n"
     ]
    }
   ],
   "source": [
    "# تعداد نسخه هایی که دارای حداقل 15 دارو هستند\n",
    "print(\"##3##\")\n",
    "a3 = client.assignment.prescription.find(\n",
    "    filter={\n",
    "        '$where': \"this.items.length > 15\"\n",
    "    }\n",
    ").count()\n",
    "print(a3)"
   ]
  },
  {
   "cell_type": "code",
   "execution_count": 9,
   "metadata": {
    "tags": []
   },
   "outputs": [
    {
     "output_type": "stream",
     "name": "stdout",
     "text": [
      "##4##\n[{'national_id': '3389083863'}, {'national_id': '0405411526'}, {'national_id': '9267389975'}, {'national_id': '0242403381'}, {'national_id': '0961701595'}, {'national_id': '2611231261'}, {'national_id': '3153888245'}, {'national_id': '4991004202'}, {'national_id': '0259364502'}]\n"
     ]
    }
   ],
   "source": [
    "# کد ملی بیمارانی که اسم پزشک آنها \"Robert\" است\n",
    "print(\"##4##\")\n",
    "a4 = list(\n",
    "    client.assignment.patient.aggregate(\n",
    "        [\n",
    "            { \n",
    "                \"$lookup\": {\n",
    "                    'from': 'doctor',\n",
    "                    'localField': 'doctor_id',\n",
    "                    'foreignField': '_id',\n",
    "                    'as': 'doctor'\n",
    "                }\n",
    "            },\n",
    "            {\n",
    "                \"$unwind\": \"$doctor\"\n",
    "            },\n",
    "            {\n",
    "                \"$match\": {\n",
    "                    'doctor.first_name': 'Robert'\n",
    "                }\n",
    "            },\n",
    "            {\n",
    "                '$project': {\n",
    "                    'national_id': 1,\n",
    "                     \"_id\": 0,\n",
    "                }\n",
    "            }\n",
    "        ]\n",
    "    )\n",
    ")\n",
    "print(a4)"
   ]
  },
  {
   "cell_type": "code",
   "execution_count": 10,
   "metadata": {
    "tags": []
   },
   "outputs": [
    {
     "output_type": "stream",
     "name": "stdout",
     "text": [
      "##5##\n{'name': 'Clarke and Sons'}\n"
     ]
    }
   ],
   "source": [
    "# نام داروخانه ای که دارویی به گرانترین قیمت به آن فروخته شده است\n",
    "print(\"##5##\")\n",
    "a5 = client.assignment.sale.aggregate(\n",
    "    [\n",
    "        {\n",
    "            '$group': {\n",
    "                '_id': None,\n",
    "                \"maxPrice\": {\n",
    "                    \"$max\": \"$price\"\n",
    "                }\n",
    "            }\n",
    "        },\n",
    "        { \n",
    "            \"$lookup\": {\n",
    "                'from': 'sale',\n",
    "                'localField': 'maxPrice',\n",
    "                'foreignField': 'price',\n",
    "                'as': 'sale'\n",
    "            }\n",
    "        },\n",
    "        {\n",
    "            \"$unwind\": \"$sale\"\n",
    "        },\n",
    "        { \n",
    "            \"$lookup\": {\n",
    "                'from': 'pharmacy',\n",
    "                'localField': 'sale.pharmacy_id',\n",
    "                'foreignField': '_id',\n",
    "                'as': 'pharmacy'\n",
    "            }\n",
    "        },\n",
    "        {\n",
    "            \"$unwind\": \"$pharmacy\"\n",
    "        },\n",
    "        {\n",
    "            '$project': {\n",
    "                'pharmacy.name': 1,\n",
    "                \"_id\": 0,\n",
    "            }\n",
    "        },\n",
    "        {\n",
    "            \"$replaceRoot\": {\n",
    "                \"newRoot\": \"$pharmacy\"\n",
    "            }\n",
    "        }\n",
    "    ]\n",
    ").next()\n",
    "print(a5)"
   ]
  },
  {
   "cell_type": "code",
   "execution_count": 11,
   "metadata": {
    "tags": []
   },
   "outputs": [
    {
     "output_type": "stream",
     "name": "stdout",
     "text": [
      "##6##\n[{'name': 'Cyanocobalamin', 'formula': 'H2O'}, {'name': 'Trihexyphenidyl', 'formula': 'C4H8O2'}, {'name': 'Phenytoin', 'formula': 'Al'}, {'name': 'Estradiol', 'formula': 'C3H7NO2'}, {'name': 'Florinef', 'formula': 'KF'}]\n"
     ]
    }
   ],
   "source": [
    "# نام و فرمول پنج دارویی که گران ترین قیمت برای آنها ثبت شده است\n",
    "print(\"##6##\")\n",
    "a6 = list(\n",
    "    client.assignment.sale.aggregate(\n",
    "        [\n",
    "            {\n",
    "                \"$group\": {\n",
    "                    '_id': '$drug_id',\n",
    "                    'max_price': {\n",
    "                        '$max': '$price'\n",
    "                    }\n",
    "                }\n",
    "            },\n",
    "            {\n",
    "                '$sort': {\n",
    "                    'max_price': -1\n",
    "                }\n",
    "            },\n",
    "            {\n",
    "                '$limit': 5\n",
    "            },\n",
    "            {\n",
    "                '$lookup': {\n",
    "                    'from': 'drug',\n",
    "                    'localField': '_id',\n",
    "                    'foreignField': '_id',\n",
    "                    'as': 'drug'\n",
    "                }\n",
    "            },\n",
    "            {\n",
    "                \"$unwind\": \"$drug\"\n",
    "            },\n",
    "            {\n",
    "                '$project': {\n",
    "                    'drug.name': 1,\n",
    "                    'drug.formula': 1,\n",
    "                    \"_id\": 0,\n",
    "                }\n",
    "            },\n",
    "            {\n",
    "                \"$replaceRoot\": {\n",
    "                    \"newRoot\": \"$drug\"\n",
    "                }\n",
    "            }\n",
    "        ]\n",
    "    )\n",
    ")\n",
    "print(a6)"
   ]
  },
  {
   "cell_type": "code",
   "execution_count": 39,
   "metadata": {},
   "outputs": [
    {
     "output_type": "stream",
     "name": "stdout",
     "text": [
      "##7##\n[{'name': 'Oxycodone HCl'}, {'name': 'Demadex'}, {'name': 'Ceftin'}, {'name': 'Etrafon'}]\n"
     ]
    }
   ],
   "source": [
    "# نام تمام داروهایی که در تاریخ datetime.datetime(2020, 9, 23, 0, 0) تجویز شده اند\n",
    "print(\"##7##\")\n",
    "a7 = list(\n",
    "    client.assignment.prescription.aggregate(\n",
    "        [\n",
    "            {\n",
    "                '$match': {\n",
    "                    'date': datetime.datetime(2020, 9, 23, 0, 0)\n",
    "                }\n",
    "            },\n",
    "            {\n",
    "                '$project': {\n",
    "                    '_id': 0,\n",
    "                    'items.drug_id': 1\n",
    "                }\n",
    "            },\n",
    "            {\n",
    "                \"$replaceRoot\": {\n",
    "                    \"newRoot\": {\n",
    "                        \"$mergeObjects\":[\n",
    "                            {\n",
    "                                '_id': '$items.drug_id'\n",
    "                            }\n",
    "                        ]\n",
    "                    }\n",
    "                }\n",
    "            },\n",
    "            {\n",
    "                \"$unwind\": \"$_id\"\n",
    "            },\n",
    "            {\n",
    "                '$lookup': {\n",
    "                    'from': 'drug',\n",
    "                    'localField': '_id',\n",
    "                    'foreignField': '_id',\n",
    "                    'as': 'drug'\n",
    "                }\n",
    "            },\n",
    "            {\n",
    "                \"$unwind\": \"$drug\"\n",
    "            },\n",
    "            {\n",
    "                '$replaceRoot': {\n",
    "                    'newRoot': '$drug'\n",
    "                }\n",
    "            },\n",
    "            {\n",
    "                \"$sort\" : {\n",
    "                    \"company_id\" : 1\n",
    "                }\n",
    "            },\n",
    "            {\n",
    "                '$project': {\n",
    "                    '_id': 0,\n",
    "                    'name': 1\n",
    "                }\n",
    "            },\n",
    "        ]\n",
    "    )\n",
    ")\n",
    "print(a7)"
   ]
  },
  {
   "cell_type": "code",
   "execution_count": 13,
   "metadata": {},
   "outputs": [
    {
     "output_type": "stream",
     "name": "stdout",
     "text": [
      "##8##\n[{'name': 'Williams, Parker and Cross'}, {'name': 'Walker Ltd'}, {'name': 'Moore, Davis and Rodriguez'}, {'name': 'Lopez-Johnson'}, {'name': 'Davis Group'}, {'name': 'Brock-White'}]\n"
     ]
    }
   ],
   "source": [
    "# نام تمام کارخانه هایی که داروی با فرمول \"C2H6Na4O12\" را تولید می کنند\n",
    "print(\"##8##\")\n",
    "a8 = list(\n",
    "    client.assignment.drug.aggregate(\n",
    "        [\n",
    "            {\n",
    "                '$match': {\n",
    "                    'formula': 'C2H6Na4O12'\n",
    "                }\n",
    "            },\n",
    "            {\n",
    "                '$lookup': {\n",
    "                    'from': 'company',\n",
    "                    'localField': 'company_id',\n",
    "                    'foreignField': '_id',\n",
    "                    'as': 'company'\n",
    "                }\n",
    "            },\n",
    "            {\n",
    "                \"$unwind\": \"$company\"\n",
    "            },\n",
    "            {\n",
    "                '$replaceRoot': {\n",
    "                    'newRoot': '$company'\n",
    "                }\n",
    "            },\n",
    "            {\n",
    "                '$project': {\n",
    "                    '_id': 0,\n",
    "                    'name': 1\n",
    "                }\n",
    "            },\n",
    "        ]\n",
    "    )\n",
    ")\n",
    "print(a8)"
   ]
  },
  {
   "cell_type": "code",
   "execution_count": 14,
   "metadata": {
    "scrolled": false
   },
   "outputs": [
    {
     "output_type": "stream",
     "name": "stdout",
     "text": [
      "##9##\n[{'email': 'walkerlindsey@hotmail.com'}, {'email': 'terriramirez@yahoo.com'}, {'email': 'lawrence49@gmail.com'}, {'email': 'jonesdeborah@hotmail.com'}, {'email': 'kyle88@hotmail.com'}, {'email': 'wangdavid@yahoo.com'}, {'email': 'osimmons@yahoo.com'}, {'email': 'coxkarl@yahoo.com'}, {'email': 'williamsmichelle@gmail.com'}, {'email': 'castrokaitlin@gmail.com'}, {'email': 'hernandezkatherine@yahoo.com'}, {'email': 'carolmoore@hotmail.com'}, {'email': 'kathleen67@yahoo.com'}, {'email': 'hornejasmine@hotmail.com'}]\n"
     ]
    }
   ],
   "source": [
    "# کاربرانی که در سبد آنها ده BasketItem وجود دارد\n",
    "print(\"##9##\")\n",
    "a9 = list(\n",
    "    client.assignment.user.find(\n",
    "        filter={\n",
    "            '$where': 'this.basket.length == 10'\n",
    "        },\n",
    "        projection={\"email\": 1, \"_id\": 0},\n",
    "    )\n",
    ")\n",
    "print(a9)"
   ]
  },
  {
   "cell_type": "code",
   "execution_count": 19,
   "metadata": {},
   "outputs": [
    {
     "output_type": "stream",
     "name": "stdout",
     "text": [
      "##10##\n{'sum': 15593}\n"
     ]
    }
   ],
   "source": [
    "print(\"##10##\")\n",
    "a10 = client.assignment.product_item.aggregate(\n",
    "    [\n",
    "        {\n",
    "            '$match': {\n",
    "                'size': 'XL'\n",
    "            }\n",
    "        },\n",
    "        {\n",
    "            '$group': {\n",
    "                '_id': None,\n",
    "                'sum': {\n",
    "                    '$sum': '$quantity'\n",
    "                }\n",
    "            }\n",
    "        },\n",
    "        {\n",
    "            '$project': {\n",
    "                '_id': 0,\n",
    "                'sum': 1\n",
    "            }\n",
    "        }\n",
    "    ]\n",
    ").next()\n",
    "print(a10)"
   ]
  },
  {
   "cell_type": "code",
   "execution_count": 22,
   "metadata": {},
   "outputs": [
    {
     "output_type": "stream",
     "name": "stdout",
     "text": [
      "##11##\n[{'national_id': '1956964607'}, {'national_id': '8157341591'}]\n"
     ]
    }
   ],
   "source": [
    "# شماره ملی رانندگانی که پلاک آنها به 25 ختم می شود\n",
    "print(\"##11##\")\n",
    "a11 = list(\n",
    "    client.assignment.driver.find(\n",
    "        filter={\n",
    "            'license_plate': {\n",
    "                '$regex': r'^.*25$'\n",
    "            }\n",
    "        },\n",
    "        projection={\"_id\": 0, \"national_id\": 1},\n",
    "    )\n",
    ")\n",
    "print(a11)"
   ]
  },
  {
   "cell_type": "code",
   "execution_count": 24,
   "metadata": {},
   "outputs": [
    {
     "output_type": "stream",
     "name": "stdout",
     "text": [
      "##12##\n[{'text': 'Church certainly question share that job ever capital great what mean continue.'}, {'text': 'Piece good reason too evening probably low pull political.'}]\n"
     ]
    }
   ],
   "source": [
    "print(\"##12##\")\n",
    "a12 = list(\n",
    "    client.assignment.comment.find(\n",
    "        filter={\n",
    "            'text': {\n",
    "                '$regex': r'(great|good)'\n",
    "            }\n",
    "        },\n",
    "        projection={\"_id\": 0, \"text\": 1},\n",
    "    )\n",
    ")\n",
    "print(a12)"
   ]
  },
  {
   "cell_type": "code",
   "execution_count": 31,
   "metadata": {},
   "outputs": [
    {
     "output_type": "stream",
     "name": "stdout",
     "text": [
      "##13##\n{'count': 12}\n"
     ]
    }
   ],
   "source": [
    "print(\"##13##\")\n",
    "a13 = client.assignment.comment.aggregate(\n",
    "    [\n",
    "        {\n",
    "            '$match': {\n",
    "                'rating': 5\n",
    "            }\n",
    "        },\n",
    "        {\n",
    "            '$count': 'count'\n",
    "        }\n",
    "    ]\n",
    ").next()\n",
    "print(a13)"
   ]
  },
  {
   "cell_type": "code",
   "execution_count": 40,
   "metadata": {},
   "outputs": [],
   "source": [
    "answers = {\n",
    "    \"a1\": a1,\n",
    "    \"a2\": a2,\n",
    "    \"a3\": a3,\n",
    "    \"a4\": a4,\n",
    "    \"a5\": a5,\n",
    "    \"a6\": a6,\n",
    "    \"a7\": a7,\n",
    "    \"a8\": a8,\n",
    "    \"a9\": a9,\n",
    "    \"a10\": a10,\n",
    "    \"a11\": a11,\n",
    "    \"a12\": a12,\n",
    "    \"a13\": a13,\n",
    "}"
   ]
  },
  {
   "cell_type": "code",
   "execution_count": 41,
   "metadata": {},
   "outputs": [],
   "source": [
    "import json\n",
    "with open(\"answers.json\", \"r\") as json_file:\n",
    "    target = json.load(json_file)"
   ]
  },
  {
   "cell_type": "code",
   "execution_count": 42,
   "metadata": {},
   "outputs": [
    {
     "output_type": "stream",
     "name": "stdout",
     "text": [
      "Query  1 Correct!\nQuery  2 Correct!\nQuery  3 Correct!\nQuery  4 Correct!\nQuery  5 Correct!\nQuery  6 Correct!\nQuery  7 Correct!\nQuery  8 Correct!\nQuery  9 Correct!\nQuery 10 Correct!\nQuery 11 Correct!\nQuery 12 Correct!\nQuery 13 Correct!\n13\n"
     ]
    }
   ],
   "source": [
    "correct = 0\n",
    "for i in range(1, 14):\n",
    "    if answers[\"a{}\".format(i)] == target[\"a{}\".format(i)]:\n",
    "        print(\"Query {:2d} Correct!\".format(i))\n",
    "        correct += 1\n",
    "    else:\n",
    "        print(\"Query {:2d} Wrong!\".format(i))\n",
    "print(correct)"
   ]
  },
  {
   "cell_type": "markdown",
   "metadata": {},
   "source": [
    "## Print Result to File  "
   ]
  },
  {
   "cell_type": "code",
   "execution_count": 43,
   "metadata": {},
   "outputs": [],
   "source": [
    "# Set your student number\n",
    "student_number = 90000000\n",
    "file_path = os.path.join(\n",
    "    os.getenv(\"OUTPUT_DIR\", \".\"), \"{}.json\".format(student_number)\n",
    ")\n",
    "with open(file_path, \"w\") as file:\n",
    "    corrects = []\n",
    "    wrongs = []\n",
    "    for i in range(1, 14):\n",
    "        if answers[\"a{}\".format(i)] == target[\"a{}\".format(i)]:\n",
    "            corrects.append(i)\n",
    "        else:\n",
    "            wrongs.append(i)\n",
    "    json.dump({\"corrects\": corrects, \"wrongs\": wrongs, \"score\": len(corrects)}, file)"
   ]
  },
  {
   "cell_type": "code",
   "execution_count": null,
   "metadata": {},
   "outputs": [],
   "source": []
  }
 ],
 "metadata": {
  "kernelspec": {
   "display_name": "Python 3",
   "language": "python",
   "name": "python3"
  },
  "language_info": {
   "codemirror_mode": {
    "name": "ipython",
    "version": 3
   },
   "file_extension": ".py",
   "mimetype": "text/x-python",
   "name": "python",
   "nbconvert_exporter": "python",
   "pygments_lexer": "ipython3",
   "version": "3.8.3-final"
  }
 },
 "nbformat": 4,
 "nbformat_minor": 1
}